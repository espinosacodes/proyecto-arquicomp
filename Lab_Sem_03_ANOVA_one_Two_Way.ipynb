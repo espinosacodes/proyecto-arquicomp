{
  "cells": [
    {
      "cell_type": "markdown",
      "metadata": {
        "id": "VeiDzK2qymA0"
      },
      "source": [
        "***Laboratorio semana 3:  Análisis de ANOVA de una y dos vías***\n",
        "\n",
        "A menudo, el análisis de algoritmos se basa en la **complejidad temporal**, utilizando la notación O(n3) para describir el tiempo de ejecución de la multiplicación de matrices. Sin embargo, esta visión puede ser incompleta, ya que no considera factores clave de la arquitectura de computadores como la **jerarquía de memoria**.\n",
        "\n",
        "En la práctica, se experimentará que las variaciones en el rendimiento de diferentes versiones de los algoritmos que no están reflejadas en la complejidad teórica. Este laboratorio permitirá evidenciar que, aunque 6 algoritmos tengan la misma complejidad O(n3) su tiempo real de ejecución puede diferir significativamente.\n",
        "\n",
        "El análisis de **ANOVA de una vía** permitirá determinar si existen diferencias significativas en el tiempo de ejecución entre las distintas versiones del algoritmo.\n",
        "\n",
        "Posteriormente, con **ANOVA de dos vías**, se incorporará un segundo factor: el tamaño de la matriz, ajustado para ocupar distintos niveles de la jerarquía de memoria (L1, L2, L3 y RAM).  Esto facilitará la evaluación tanto de los efectos individuales de cada factor como de su interacción.\n",
        "\n",
        "Además, se realizará un **análisis exploratorio de datos**, empleando gráficos de cajas y bigotes para identificar valores atípicos y comparaciones post-hoc en caso de que el ANOVA indique diferencias significativas.\n",
        "Además, se generará una **matriz de aleatorización** para controlar sesgos en la ejecución de los experimentos y garantizar la validez de las conclusiones.\n",
        "\n",
        "\n",
        "**Objetivos:**\n",
        "\n",
        "Determinar si existen diferencias significativas en el tiempo de ejecución normalizado entre versiones del algoritmo.\n",
        "\n",
        "Aplicar ANOVA de una vía para analizar el impacto del factor versión del algoritmo.\n",
        "\n",
        "Aplicar ANOVA de dos vías considerando además el tamaño de la matriz como un segundo factor.\n",
        "\n",
        "Utilizar herramientas gráficas como diagramas de cajas y bigotes para visualizar la distribución de los tiempos de ejecución y detectar valores atípicos.\n",
        "\n",
        "\n"
      ]
    },
    {
      "cell_type": "code",
      "execution_count": 2,
      "metadata": {
        "colab": {
          "base_uri": "https://localhost:8080/"
        },
        "id": "qDP6GplryicL",
        "outputId": "0f8e2e1f-8618-40f3-cd35-18c843b77cd6"
      },
      "outputs": [
        {
          "name": "stdout",
          "output_type": "stream",
          "text": [
            "Collecting researchpy\n",
            "  Downloading researchpy-0.3.6-py3-none-any.whl.metadata (1.2 kB)\n",
            "Requirement already satisfied: scipy in /usr/local/lib/python3.11/dist-packages (from researchpy) (1.13.1)\n",
            "Requirement already satisfied: numpy in /usr/local/lib/python3.11/dist-packages (from researchpy) (1.26.4)\n",
            "Requirement already satisfied: pandas in /usr/local/lib/python3.11/dist-packages (from researchpy) (2.2.2)\n",
            "Requirement already satisfied: statsmodels in /usr/local/lib/python3.11/dist-packages (from researchpy) (0.14.4)\n",
            "Requirement already satisfied: patsy in /usr/local/lib/python3.11/dist-packages (from researchpy) (1.0.1)\n",
            "Requirement already satisfied: python-dateutil>=2.8.2 in /usr/local/lib/python3.11/dist-packages (from pandas->researchpy) (2.8.2)\n",
            "Requirement already satisfied: pytz>=2020.1 in /usr/local/lib/python3.11/dist-packages (from pandas->researchpy) (2025.1)\n",
            "Requirement already satisfied: tzdata>=2022.7 in /usr/local/lib/python3.11/dist-packages (from pandas->researchpy) (2025.1)\n",
            "Requirement already satisfied: packaging>=21.3 in /usr/local/lib/python3.11/dist-packages (from statsmodels->researchpy) (24.2)\n",
            "Requirement already satisfied: six>=1.5 in /usr/local/lib/python3.11/dist-packages (from python-dateutil>=2.8.2->pandas->researchpy) (1.17.0)\n",
            "Downloading researchpy-0.3.6-py3-none-any.whl (34 kB)\n",
            "Installing collected packages: researchpy\n",
            "Successfully installed researchpy-0.3.6\n"
          ]
        }
      ],
      "source": [
        "# Instalación de librerías\n",
        "!pip install researchpy\n",
        "# Importar librerías\n",
        "import pandas as pd\n",
        "import seaborn as sns\n",
        "import matplotlib.pyplot as plt\n",
        "import researchpy as rp\n",
        "import statsmodels.api as sm\n",
        "from statsmodels.formula.api import ols\n",
        "from statsmodels.stats.anova import anova_lm\n",
        "from scipy.stats import f_oneway\n",
        "import numpy as np\n",
        "import random\n",
        "\n",
        "# Gráfico de Cajas y Bigotes\n",
        "def boxplot_version(df_data):\n",
        "    sns.set(style=\"whitegrid\")\n",
        "    plt.figure(figsize=(10, 6))\n",
        "    sns.boxplot(x='version', y='Normalized_ns', data=df_data)\n",
        "    plt.xlabel('Versión del Algoritmo')\n",
        "    plt.ylabel('Tiempo Normalizado (ns)')\n",
        "    plt.title('Distribución de Tiempos de Ejecución')\n",
        "    plt.show()\n",
        "\n",
        "#boxplot_version(df)\n",
        "\n",
        "#  Detección de Valores Atípicos\n",
        "def detectar_outliers(data, umbral=3):\n",
        "    media = np.mean(data)\n",
        "    desviacion = np.std(data)\n",
        "    outliers = [x for x in data if abs(x - media) > umbral * desviacion]\n",
        "    return outliers\n",
        "\n",
        "def boxplot_version(df_data):\n",
        "  # Crear el gráfico de cajas y bigotes\n",
        "  print(\"===========          Gráfico de cajas y bigotes         ================\")\n",
        "  # Suponiendo que 'Normalized (ns)' es la columna que contiene los datos de tiempo normalizado y 'version' es la columna que indica la versión del algoritmo\n",
        "  sns.set(style=\"whitegrid\")  # Establecer el estilo del gráfico\n",
        "  plt.figure(figsize=(10, 6))  # Tamaño del gráfico\n",
        "  sns.boxplot(x='version', y='Normalized_ns', data=df_data)\n",
        "    # Etiquetas y título\n",
        "  plt.xlabel('Algoritmo')\n",
        "  plt.ylabel('Tiempo normalizado(ns)')\n",
        "  plt.title('Gráfico de Cajas y Bigotes para Tiempos de Ejecución')\n",
        "  # Mostrar el gráfico\n",
        "  plt.show()\n",
        "\n",
        "def detectar_outliers_desviacion_estandar(data, umbral=3):\n",
        "    media = np.mean(data)\n",
        "    desviacion_estandar = np.std(data)\n",
        "    outliers = [x for x in data if abs(x - media) > umbral * desviacion_estandar]\n",
        "    return outliers\n"
      ]
    },
    {
      "cell_type": "markdown",
      "metadata": {
        "id": "_8oz2gzb29uZ"
      },
      "source": [
        "**Cargar datos de la Semana 2**\n",
        "\n",
        "Importe los datos recolectados en la semana 2 y guardelos en un dataframe, seleecione la hoja con nombre 'data', es decir los datos con las 12 muestras de cada uno de los 6 nivels del factor versión.\n"
      ]
    },
    {
      "cell_type": "code",
      "execution_count": 3,
      "metadata": {
        "colab": {
          "base_uri": "https://localhost:8080/"
        },
        "id": "y1YNQHPd3T4f",
        "outputId": "58f9866e-f664-4651-bbfa-cc679648706d"
      },
      "outputs": [
        {
          "name": "stdout",
          "output_type": "stream",
          "text": [
            "<class 'pandas.core.frame.DataFrame'>\n",
            "RangeIndex: 72 entries, 0 to 71\n",
            "Data columns (total 7 columns):\n",
            " #   Column         Non-Null Count  Dtype  \n",
            "---  ------         --------------  -----  \n",
            " 0   version        72 non-null     object \n",
            " 1   typeData       72 non-null     object \n",
            " 2   ISA            72 non-null     object \n",
            " 3   sample         72 non-null     int64  \n",
            " 4   n              72 non-null     int64  \n",
            " 5   time(s)        72 non-null     float64\n",
            " 6   Normalized_ns  72 non-null     float64\n",
            "dtypes: float64(2), int64(2), object(3)\n",
            "memory usage: 4.1+ KB\n",
            "     version typeData  ISA  sample     n  time(s)  Normalized_ns\n",
            "0  C++ver(a)    float  x64       0  1000    3.049          3.049\n",
            "1  C++ver(a)    float  x64       1  1000    3.131          3.131\n",
            "2  C++ver(a)    float  x64       2  1000    3.062          3.062\n",
            "3  C++ver(a)    float  x64       3  1000    3.061          3.061\n",
            "4  C++ver(a)    float  x64       4  1000    3.030          3.030\n"
          ]
        }
      ],
      "source": [
        "# Cargar datos de la Semana 2\n",
        "df = pd.read_excel(\"Lab semana 2 Part 2_Product Matrix_Datos.xlsx\", \"data\")\n",
        "df = df.rename(columns={\"Normalized(ns)\": \"Normalized_ns\", \"ver\": \"version\"})\n",
        "df['version'] = df['version'].str.strip()\n",
        "df.info()\n",
        "print(df.head())"
      ]
    },
    {
      "cell_type": "markdown",
      "metadata": {
        "id": "DS3D5jaC3uji"
      },
      "source": [
        "Cerciórese que se importaron 72 filas y 7 columnas, y que haya exactamente 6 niveles del factor de estudio versión (N=90 datos)"
      ]
    },
    {
      "cell_type": "code",
      "execution_count": 4,
      "metadata": {
        "colab": {
          "base_uri": "https://localhost:8080/"
        },
        "id": "kYHxc4bq4HZn",
        "outputId": "8f134ccb-c582-401d-fcd4-5eb4fa702cdd"
      },
      "outputs": [
        {
          "name": "stdout",
          "output_type": "stream",
          "text": [
            "['C++ver(a)' 'C++ver(b)' 'C++ver(c)' 'C++ver(d)' 'C++ver(e)' 'C++ver(f)']\n",
            "\n",
            "\n",
            "        Variable     N    Mean      SD      SE  95% Conf.  Interval\n",
            "0  Normalized_ns  72.0  5.9826  4.3628  0.5142     4.9574    7.0078\n",
            "   \n",
            "================= Resumen de Estadísticas por Versión=============\n",
            "\n",
            "\n",
            "            N     Mean      SD      SE  95% Conf.  Interval\n",
            "version                                                    \n",
            "C++ver(a)  12   2.9840  0.1212  0.0350     2.9070    3.0610\n",
            "C++ver(b)  12   3.0466  0.2066  0.0596     2.9153    3.1779\n",
            "C++ver(c)  12   2.8896  0.1293  0.0373     2.8075    2.9717\n",
            "C++ver(d)  12   2.7668  0.0099  0.0029     2.7606    2.7731\n",
            "C++ver(e)  12  12.1382  0.0915  0.0264    12.0801   12.1964\n",
            "C++ver(f)  12  12.0705  0.2766  0.0798    11.8948   12.2462\n",
            "   \n"
          ]
        },
        {
          "name": "stderr",
          "output_type": "stream",
          "text": [
            "/usr/local/lib/python3.11/dist-packages/researchpy/summary.py:38: FutureWarning: Setting an item of incompatible dtype is deprecated and will raise an error in a future version of pandas. Value 'Normalized_ns' has dtype incompatible with float64, please explicitly cast to a compatible dtype first.\n",
            "  table.iloc[0,0] = group1.name\n"
          ]
        }
      ],
      "source": [
        "#Verificar el número de niveles del factor Version\n",
        "print(df['version'].unique())\n",
        "print(rp.summary_cont(df['Normalized_ns']))\n",
        "print(\"   \")\n",
        "print(\"================= Resumen de Estadísticas por Versión=============\")\n",
        "print(rp.summary_cont(df['Normalized_ns'].groupby(df['version'])))\n",
        "print(\"   \")\n"
      ]
    },
    {
      "cell_type": "markdown",
      "metadata": {
        "id": "ZA7M3E5Ml9S2"
      },
      "source": [
        "**Error relativo vs Tamaño de la muestra**"
      ]
    },
    {
      "cell_type": "code",
      "execution_count": 6,
      "metadata": {
        "colab": {
          "base_uri": "https://localhost:8080/"
        },
        "id": "0COKbdWxmSc2",
        "outputId": "93f451d9-1748-4af4-be65-630164f20fd9"
      },
      "outputs": [
        {
          "name": "stdout",
          "output_type": "stream",
          "text": [
            "              min     max   median       mean       std       var\n",
            "version                                                          \n",
            "C++ver(a)   2.778   3.156   2.9975   2.984000  0.121218  0.014694\n",
            "C++ver(b)   2.849   3.374   2.9725   3.046583  0.206626  0.042694\n",
            "C++ver(c)   2.746   3.139   2.8500   2.889583  0.129262  0.016709\n",
            "C++ver(d)   2.758   2.790   2.7625   2.766833  0.009880  0.000098\n",
            "C++ver(e)  12.022  12.297  12.1325  12.138250  0.091493  0.008371\n",
            "C++ver(f)  11.859  12.890  11.9955  12.070500  0.276576  0.076494\n",
            "\n",
            "Cálculo del Error absoluto equivalente a Er=3%\n",
            "version\n",
            "C++ver(a)    0.089520\n",
            "C++ver(b)    0.091398\n",
            "C++ver(c)    0.086687\n",
            "C++ver(d)    0.083005\n",
            "C++ver(e)    0.364147\n",
            "C++ver(f)    0.362115\n",
            "Name: mean, dtype: float64\n",
            "\n",
            "Cálculo del Tamaño de Muestra \n",
            "version\n",
            "C++ver(a)     7.043794\n",
            "C++ver(b)    19.634276\n",
            "C++ver(c)     8.541615\n",
            "C++ver(d)     0.054423\n",
            "C++ver(e)     0.242511\n",
            "C++ver(f)     2.241027\n",
            "dtype: float64\n",
            "\n"
          ]
        },
        {
          "name": "stderr",
          "output_type": "stream",
          "text": [
            "<ipython-input-6-e3e6917e4853>:1: FutureWarning: The provided callable <function std at 0x79e790f4dc60> is currently using SeriesGroupBy.std. In a future version of pandas, the provided callable will be used directly. To keep current behavior pass the string \"std\" instead.\n",
            "  Stat_data=df[[\"Normalized_ns\", \"version\"]].groupby(\"version\").agg({\"Normalized_ns\":[\"min\", \"max\", \"median\", \"mean\" ,np.std,np.var]})\n",
            "<ipython-input-6-e3e6917e4853>:1: FutureWarning: The provided callable <function var at 0x79e790f4dda0> is currently using SeriesGroupBy.var. In a future version of pandas, the provided callable will be used directly. To keep current behavior pass the string \"var\" instead.\n",
            "  Stat_data=df[[\"Normalized_ns\", \"version\"]].groupby(\"version\").agg({\"Normalized_ns\":[\"min\", \"max\", \"median\", \"mean\" ,np.std,np.var]})\n"
          ]
        }
      ],
      "source": [
        "Stat_data=df[[\"Normalized_ns\", \"version\"]].groupby(\"version\").agg({\"Normalized_ns\":[\"min\", \"max\", \"median\", \"mean\" ,np.std,np.var]})\n",
        "Stat_data=Stat_data.Normalized_ns\n",
        "print(Stat_data)\n",
        "Er=3 # 1%\n",
        "Error_abs=Stat_data['mean']*(Er/100)\n",
        "print(\"\")\n",
        "print(\"Cálculo del Error absoluto equivalente a Er=3%\")\n",
        "print(Error_abs)\n",
        "print(\"\")\n",
        "print(\"Cálculo del Tamaño de Muestra \")\n",
        "Z=1.96 #95%\n",
        "print(Stat_data['var']*(Z*Z)/(Error_abs*Error_abs))\n",
        "print(\"\")\n"
      ]
    },
    {
      "cell_type": "markdown",
      "metadata": {
        "id": "TYlMwaAZMBZh"
      },
      "source": [
        "¿Cuándo es mejor utilizar la mediana en lugar de la media?"
      ]
    },
    {
      "cell_type": "markdown",
      "metadata": {
        "id": "SJZUP3CImrHl"
      },
      "source": [
        "**P2.** A partir del cálculo del tamaño de muestra necesario para cada versión del algoritmo, se debe evaluar si el número de muestras recolectadas en el experimento es suficiente para garantizar una estimación precisa del tiempo de ejecución normalizado.\n",
        "\n",
        "**¿El número de muestras definido es válido?**\n",
        "\n",
        "-Se comparará el tamaño de muestra calculado con el número de observaciones del experimento inicial.\n",
        "\n",
        "-Si el valor calculado es mayor al número de muestras recolectadas, se requeriría aumentar el número de repeticiones para reducir la incertidumbre en la estimación.\n",
        "-Si el valor es menor, se considera que la cantidad de datos es suficiente para el análisis.\n",
        "\n",
        "\n"
      ]
    },
    {
      "cell_type": "markdown",
      "metadata": {
        "id": "5rWKcaAK4QcI"
      },
      "source": [
        "**Diagrama de cajas y bigotes**"
      ]
    },
    {
      "cell_type": "code",
      "execution_count": 7,
      "metadata": {
        "colab": {
          "base_uri": "https://localhost:8080/",
          "height": 590
        },
        "id": "g989o7d34Y2H",
        "outputId": "7d8e8444-5e4b-42fd-e21c-11cf0d270c3c"
      },
      "outputs": [
        {
          "name": "stdout",
          "output_type": "stream",
          "text": [
            "===========          Gráfico de cajas y bigotes         ================\n"
          ]
        },
        {
          "data": {
            "image/png": "[encoded data removed]",
            "text/plain": [
              "<Figure size 1000x600 with 1 Axes>"
            ]
          },
          "metadata": {},
          "output_type": "display_data"
        }
      ],
      "source": [
        "# Crear el gráfico de cajas y bigotes\n",
        "boxplot_version(df)\n"
      ]
    },
    {
      "cell_type": "markdown",
      "metadata": {
        "id": "l1kotEON6CWI"
      },
      "source": [
        "**P2** ¿Cuál versión del algoritmo tiene mayor y menor variabilidad?\n",
        "\n",
        "**P4.** En qué tipo de algoritmo observa valores atípicos, que criterio se usa para considerar un dato como atípico?\n",
        "\n",
        "\n",
        "\n"
      ]
    },
    {
      "cell_type": "markdown",
      "metadata": {
        "id": "gIHmg4Q--MfH"
      },
      "source": [
        "**Análisis de Varianza de una vía**\n",
        "\n",
        "El Análisis de Varianza de una vía (ANOVA de una vía) es una técnica estadística utilizada para comparar las medias de dos o más grupos y determinar si existen diferencias significativas entre ellas.\n",
        "\n",
        "En este caso, se analizará si el tiempo de ejecución normalizado varía significativamente entre las diferentes versiones del algoritmo.\n",
        "\n",
        "El ANOVA de una vía se basa en la descomposición de la variabilidad total de los datos en dos componentes principales:\n",
        "\n",
        "**Variabilidad entre los grupos (Factor):** Diferencias debidas a la variación entre las versiones del algoritmo.\n",
        "\n",
        "**Variabilidad dentro de los grupos (Error o Residual):** Diferencias debidas a la variabilidad natural dentro de cada versión.\n",
        "\n",
        "La tabla ANOVA presenta los siguientes parámetros clave:\n",
        "\n",
        "**-DF (Grados de Libertad):** Número de valores independientes en el análisis.\n",
        "\n",
        "**-SC (Suma de Cuadrados):** Medida de la variabilidad total y su distribución entre el factor y el error.\n",
        "\n",
        "**-MC (Media Cuadrática):** Promedio de la suma de cuadrados dividido por los grados de libertad.\n",
        "\n",
        "**-F (Estadístico F):** Relación entre la variabilidad entre grupos y la variabilidad dentro de los grupos.\n",
        "\n",
        "**-Valor p:** Indica la probabilidad de obtener los resultados observados si no hay diferencias reales entre los grupos.\n",
        "\n",
        "Interpretación del ANOVA:\n",
        "\n",
        "Si el **valor p** es menor que un umbral de significancia **(𝛼)**, se rechaza la hipótesis nula, lo que sugiere que al menos una versión del algoritmo tiene un tiempo de ejecución significativamente diferente.\n",
        "\n",
        "Si el **valor p** es mayor que **𝛼**, no hay suficiente evidencia para concluir que existen diferencias entre las versiones analizadas.\n",
        "\n",
        "Este análisis es fundamental para evaluar el impacto de diferentes implementaciones en el rendimiento computacional y guiar la elección del algoritmo más eficiente.\n",
        "\n"
      ]
    },
    {
      "cell_type": "code",
      "execution_count": 8,
      "metadata": {
        "colab": {
          "base_uri": "https://localhost:8080/"
        },
        "id": "9MBmPUsT-rfx",
        "outputId": "7a82b80d-477e-4222-8208-77e4c320c164"
      },
      "outputs": [
        {
          "name": "stdout",
          "output_type": "stream",
          "text": [
            "===========          TABLA ANOVA one way         ================\n",
            "                 sum_sq    df             F        PR(>F)\n",
            "C(version)  1349.691078   5.0  10182.535858  7.561942e-94\n",
            "Residual       1.749655  66.0           NaN           NaN\n",
            " \n",
            "Valor p para C(version): 7.561942499439914e-94\n",
            "alpha: 0.05\n",
            "\n"
          ]
        },
        {
          "name": "stderr",
          "output_type": "stream",
          "text": [
            "/usr/local/lib/python3.11/dist-packages/statsmodels/base/model.py:130: ValueWarning: unknown kwargs ['alpha']\n",
            "  warnings.warn(msg, ValueWarning)\n"
          ]
        }
      ],
      "source": [
        "# ANOVA de una vía\n",
        "# Realizamos el análisis de un factor usando ANOVA\n",
        "formula = 'Q(\"Normalized_ns\") ~ C(version) '  # Indicamos que queremos evaluar el impacto de version\n",
        "modelo1Factor = ols(formula, alpha=0.05, data=df).fit() # La fórmula 'Normalized_ns ~ C(version)' indica que se está evaluando el efecto de la variable 'version' sobre la variable 'Normalized_ns'.\n",
        "anova_table = sm.stats.anova_lm(modelo1Factor, typ=2) #anova_lm() para calcular la tabla ANOVA a partir del modelo ajustado. El argumento typ=2 especifica que se debe utilizar el tipo 2 (El orden de las variables en el modelo no afecta el cálculo) de suma de cuadrados.\n",
        "print(\"===========          TABLA ANOVA one way         ================\")\n",
        "print(anova_table)\n",
        "print(\" \")\n",
        "\n",
        "print(\"Valor p para C(version):\", anova_table.loc['C(version)', 'PR(>F)'])\n",
        "print(\"alpha: 0.05\")\n",
        "print(\"\")"
      ]
    },
    {
      "cell_type": "markdown",
      "metadata": {
        "id": "gY0D1XUd--WR"
      },
      "source": [
        "**P4** ¿Cómo se interpreta el valor p obtenido en la tabla ANOVA con respecto a las hipótesis nula y alternativa planteadas sobre las diferencias en el tiempo de ejecución entre las versiones del algoritmo?\n",
        "\n"
      ]
    },
    {
      "cell_type": "markdown",
      "metadata": {
        "id": "TUgSQtki_lY1"
      },
      "source": [
        "**Comparación por pares (post-hoc)**\n",
        "\n",
        "Una vez realizado el ANOVA de una vía, si se encuentra una diferencia significativa en los tiempos de ejecución entre las versiones del algoritmo (p\n",
        "< 0.05), el siguiente paso es identificar qué grupos de versiones presentan diferencias entre sí. Para ello, se utilizan pruebas post-hoc, que permiten realizar comparaciones múltiples entre pares de grupos sin aumentar el riesgo de errores estadísticos.\n",
        "\n",
        "**P5.¿Sería útil realizar análisis adicionales, como comparaciones por pares (post-hoc), para identificar específicamente qué grupos de versiones del algoritmo presentan diferencias significativas en el tiempo de ejecución?**\n",
        "\n",
        "Sí, si el ANOVA indica que existen diferencias significativas entre las versiones, se debe aplicar un análisis post-hoc para determinar cuáles versiones del algoritmo presentan esas diferencias. Esto es importante porque el ANOVA solo indica que existe al menos una diferencia, pero no señala específicamente entre qué versiones ocurre.\n",
        "\n",
        "**P6.**¿Qué método de comparación post-hoc sería apropiado para este caso?\n",
        "\n",
        "El método de comparación post-hoc más adecuado dependerá del contexto, pero algunos de los más utilizados incluyen:\n",
        "\n",
        "**Prueba de Tukey HSD** (Honestly Significant Difference):\n",
        "Apropiada cuando se comparan múltiples grupos de manera equitativa.\n",
        "\n",
        "**Prueba de Bonferroni:** Útil para reducir el riesgo de errores tipo I en comparaciones múltiples.\n",
        "\n",
        "**Prueba de Scheffé:** Más conservadora, adecuada para cualquier tipo de comparación entre grupos.\n",
        "\n",
        "En este caso, dado que se comparan varias versiones del algoritmo, la prueba de **Tukey HSD** es la opción que vamos a usar (y es la prueba que probablemente usaron en inferencia estadística) , ya que permite evaluar todas las diferencias posibles entre los grupos con un control adecuado del error tipo I.\n",
        "\n",
        "\n"
      ]
    },
    {
      "cell_type": "code",
      "execution_count": null,
      "metadata": {
        "colab": {
          "base_uri": "https://localhost:8080/"
        },
        "id": "YxUyDiLgOw5A",
        "outputId": "219673a6-7762-4663-ba4d-d4292d8af090"
      },
      "outputs": [
        {
          "name": "stdout",
          "output_type": "stream",
          "text": [
            "   Multiple Comparison of Means - Tukey HSD, FWER=0.05    \n",
            "==========================================================\n",
            "  group1    group2  meandiff p-adj   lower   upper  reject\n",
            "----------------------------------------------------------\n",
            "C++ver(a) C++ver(b)   0.0626 0.9341 -0.1325  0.2577  False\n",
            "C++ver(a) C++ver(c)  -0.0944 0.7146 -0.2895  0.1007  False\n",
            "C++ver(a) C++ver(d)  -0.2172 0.0205 -0.4123 -0.0221   True\n",
            "C++ver(a) C++ver(e)   9.1543    0.0  8.9592  9.3493   True\n",
            "C++ver(a) C++ver(f)   9.0865    0.0  8.8914  9.2816   True\n",
            "C++ver(b) C++ver(c)   -0.157 0.1849 -0.3521  0.0381  False\n",
            "C++ver(b) C++ver(d)  -0.2797 0.0011 -0.4748 -0.0847   True\n",
            "C++ver(b) C++ver(e)   9.0917    0.0  8.8966  9.2868   True\n",
            "C++ver(b) C++ver(f)   9.0239    0.0  8.8288   9.219   True\n",
            "C++ver(c) C++ver(d)  -0.1227 0.4438 -0.3178  0.0723  False\n",
            "C++ver(c) C++ver(e)   9.2487    0.0  9.0536  9.4438   True\n",
            "C++ver(c) C++ver(f)   9.1809    0.0  8.9858   9.376   True\n",
            "C++ver(d) C++ver(e)   9.3714    0.0  9.1763  9.5665   True\n",
            "C++ver(d) C++ver(f)   9.3037    0.0  9.1086  9.4988   True\n",
            "C++ver(e) C++ver(f)  -0.0677 0.9099 -0.2628  0.1273  False\n",
            "----------------------------------------------------------\n"
          ]
        }
      ],
      "source": [
        "# Prueba Post-hoc (Tukey HSD si ANOVA es significativo)\n",
        "from statsmodels.stats.multicomp import pairwise_tukeyhsd\n",
        "\n",
        "if anova_table.loc['C(version)', 'PR(>F)'] < 0.05:\n",
        "    tukey = pairwise_tukeyhsd(df['Normalized_ns'], df['version'], alpha=0.05)\n",
        "    print(tukey)"
      ]
    },
    {
      "cell_type": "markdown",
      "metadata": {
        "id": "HQdx6gFiRnDB"
      },
      "source": [
        "**Interpretación de los Resultados de la Prueba Tukey HSD**\n",
        "\n",
        "Los resultados de la prueba de comparaciones múltiples de Tukey HSD permiten identificar qué versiones del algoritmo presentan diferencias estadísticamente significativas en sus tiempos de ejecución normalizados.\n",
        "\n",
        "Parámetro\tDescripción\n",
        "\n",
        "**group1, group2**\tVersiones del algoritmo que se comparan.\n",
        "\n",
        "**meandiff**\tDiferencia de medias entre los dos grupos comparados.\n",
        "\n",
        "**p-adj**\tValor p ajustado para múltiples comparaciones.\n",
        "\n",
        "**lower, upper**\tIntervalo de confianza del 95% para la diferencia de medias.\n",
        "\n",
        "**reject**\tIndica si la diferencia es significativa (True) o no (False).\n",
        "\n",
        "Criterio de decisión:\n",
        "\n",
        "Si **reject = True** y, significa que hay una diferencia significativa en el tiempo de ejecución entre esas versiones.\n",
        "\n",
        "Si **reject = False**, no se puede afirmar que haya una diferencia significativa entre los dos algoritmos comparados.\n",
        "\n",
        "**Conteste:** Hay diferencia significativa entre la versión a y b, c y d, e y f ?\n",
        "\n",
        "**Conclusión:**\n",
        "Por ejemplo con los datos del cuaderno:\n",
        "\n",
        "**C++ver(a) vs. C++ver(b)** → No hay diferencia significativa (p=0.9341).\n",
        "\n",
        "**C++ver(c) vs. C++ver(d)** → No hay diferencia significativa (p =0.4438).\n",
        "\n",
        "**C++ver(e) vs. C++ver(f)** → No hay diferencia significativa ( p= 0.9099).\n",
        "\n",
        "Obtuvo un resultado similar?\n"
      ]
    },
    {
      "cell_type": "markdown",
      "metadata": {
        "id": "wyvtN7rIH0gA"
      },
      "source": []
    },
    {
      "cell_type": "markdown",
      "metadata": {
        "id": "TJCefCypG8M4"
      },
      "source": [
        "**Diagrama de cajas y bigotes par 1 ver(a) ver(b)**"
      ]
    },
    {
      "cell_type": "code",
      "execution_count": null,
      "metadata": {
        "colab": {
          "base_uri": "https://localhost:8080/",
          "height": 573
        },
        "id": "6HLRApiLHb0f",
        "outputId": "6404bead-f50b-44b8-cbd7-957b93f30e4a"
      },
      "outputs": [
        {
          "data": {
            "image/png": "[encoded data removed]",
            "text/plain": [
              "<Figure size 800x600 with 1 Axes>"
            ]
          },
          "metadata": {},
          "output_type": "display_data"
        }
      ],
      "source": [
        "# Filtrar solo las versiones ver(a) y ver(b)\n",
        "df_ab = df[df[\"version\"].isin([\"C++ver(a)\", \"C++ver(b)\"])]\n",
        "\n",
        "# Crear el gráfico de cajas y bigotes\n",
        "plt.figure(figsize=(8, 6))\n",
        "sns.boxplot(x=\"version\", y=\"Normalized_ns\", data=df_ab)\n",
        "plt.xlabel(\"Versión del Algoritmo\")\n",
        "plt.ylabel(\"Tiempo Normalizado (ns)\")\n",
        "plt.title(\"Diagrama de Cajas y Bigotes: C++ver(a) vs C++ver(b)\")\n",
        "\n",
        "# Mostrar el gráfico\n",
        "plt.show()"
      ]
    },
    {
      "cell_type": "markdown",
      "metadata": {
        "id": "rCdhV3ygH5Ue"
      },
      "source": [
        "**P7.** ¿Considera que los datos atípicos en éste aso afectaría la prueba de hipótesis?\n",
        "\n",
        "**ANOVA par 1 ver(a) ver(b)**\n",
        "\n",
        "Escriba las hipótesis para esta prueba:\n",
        "\n",
        "$H_1$:\n",
        "\n",
        "$H_0$:\n",
        "\n",
        "**ANOVA para la comparación entre C++ver(a) y C++ver(b):**\n",
        "\n",
        "Importante: Anque la prueba de Tukey ya respondió la pregunta sobre si hay diferencias significactivas entre la versión (a) y versión (b), vamos igual aplicar el ANOVA para estos dos grupos, aunque ya sabemos la respuesta.\n"
      ]
    },
    {
      "cell_type": "code",
      "execution_count": null,
      "metadata": {
        "colab": {
          "base_uri": "https://localhost:8080/"
        },
        "id": "SNW3l4FGJH7A",
        "outputId": "bc2bc5e5-7d4c-442e-cb6a-316c389cbf17"
      },
      "outputs": [
        {
          "name": "stdout",
          "output_type": "stream",
          "text": [
            "              sum_sq    df         F    PR(>F)\n",
            "C(version)  0.023500   1.0  0.818984  0.375282\n",
            "Residual    0.631271  22.0       NaN       NaN\n",
            "Valor p para C(version): 0.37528171972206514\n"
          ]
        }
      ],
      "source": [
        "modelo_ab = ols('Normalized_ns ~ C(version)', data=df_ab).fit() # La fórmula 'Normalized_ns ~ C(version)' indica que se está evaluando el efecto de la variable 'version' sobre la variable 'Normalized_ns'.\n",
        "# Calcular la tabla ANOVA\n",
        "tabla_anova_ab = anova_lm(modelo_ab, typ=2) #anova_lm() para calcular la tabla ANOVA a partir del modelo ajustado. El argumento typ=2 especifica que se debe utilizar el tipo 2 (El orden de las variables en el modelo no afecta el cálculo) de suma de cuadrados.\n",
        "# Mostrar la tabla ANOVA\n",
        "print(tabla_anova_ab)\n",
        "# Imprimir el valor p para C(version)\n",
        "print(\"Valor p para C(version):\", tabla_anova_ab.loc['C(version)', 'PR(>F)'])\n"
      ]
    },
    {
      "cell_type": "markdown",
      "metadata": {
        "id": "igu9F9ZGJ3Yb"
      },
      "source": [
        "**P8.** Interprete los resultados del ANOVA:\n",
        "\n",
        "\n"
      ]
    },
    {
      "cell_type": "markdown",
      "metadata": {
        "id": "4KsQafPxKSH1"
      },
      "source": [
        "**Análisis de valores atípicos par de versions 1 Ver(a) Ver(b)**\n"
      ]
    },
    {
      "cell_type": "code",
      "execution_count": null,
      "metadata": {
        "colab": {
          "base_uri": "https://localhost:8080/"
        },
        "id": "2Uujmu_5KjHL",
        "outputId": "e7d9f4ae-e283-4260-cf6f-5d382b5f041d"
      },
      "outputs": [
        {
          "name": "stdout",
          "output_type": "stream",
          "text": [
            "================= Análisis de valores atípicos =========================\n",
            "Outliers detectados ver(b): []\n",
            "Outliers detectados ver(b): []\n"
          ]
        }
      ],
      "source": [
        "print(\"================= Análisis de valores atípicos =========================\")\n",
        "\n",
        "data_ver_a=df[df['version'].isin(['ver(a)'])]\n",
        "datos = data_ver_a['Normalized_ns']  # Reemplaza con la columna de datos que deseas analizar\n",
        "outliers = detectar_outliers_desviacion_estandar(datos,1)\n",
        "print(\"Outliers detectados ver(b):\", outliers)\n",
        "\n",
        "data_ver_b=df[df['version'].isin(['ver(b)'])]\n",
        "datos = data_ver_a['Normalized_ns']  # Reemplaza con la columna de datos que deseas analizar\n",
        "outliers = detectar_outliers_desviacion_estandar(datos,1)\n",
        "print(\"Outliers detectados ver(b):\", outliers)"
      ]
    },
    {
      "cell_type": "markdown",
      "metadata": {
        "id": "JwnRFkwaK1hN"
      },
      "source": [
        "**P9.** ¿Qué criterio utilizamos para identificar un dato dato atípico?\n",
        "\n",
        "\n",
        "**P10.** Si se detectan, ¿Con qué valor reemplazamos un valor atípico?\n",
        "\n",
        "\n",
        "Siga el mismo procedimiento de análisis que realizó con el par Ver(a) Ver(b) y apliquelo para el par ver(c)-ver(d) y par ver(e)-ver(f) de versiones.\n",
        "\n"
      ]
    },
    {
      "cell_type": "markdown",
      "metadata": {
        "id": "vSINhCW3OzhL"
      },
      "source": [
        "**ANOVA de dos vías**\n",
        "\n",
        "El **Análisis de Varianza de Dos Vías** (ANOVA de Dos Vías) es una técnica estadística utilizada para analizar el efecto que tiene dos factores simultáneamente sobre una variable de respuesta. En este caso, el objetivo es evaluar cómo influyen la versión del algoritmo y el tamaño de la matriz en el tiempo de ejecución normalizado.\n",
        "\n",
        "En el análisis de ANOVA de una vía, se examinó el impacto de la versión del algoritmo como único factor. Sin embargo, en aplicaciones computacionales, el rendimiento de un algoritmo no depende únicamente del código implementado, sino también del tamaño de los datos que se procesan y cómo estos interactúan con la jerarquía de memoria del sistema.\n",
        "\n",
        "Por esta razón, el ANOVA de Dos Vías nos permitirá responder las siguientes preguntas clave:\n",
        "\n",
        "**1** ¿Las diferentes versiones del algoritmo presentan diferencias significativas en el tiempo de ejecución?\n",
        "\n",
        "**2** ¿El tamaño de la matriz de datos afecta significativamente el rendimiento (tiempo normalizado) ?\n",
        "\n",
        "**3** ¿Existe una interacción entre la versión del algoritmo y el tamaño de la matriz? Es decir, ¿el impacto de la versión del algoritmo en el rendimiento cambia dependiendo del tamaño de la matriz?\n",
        "\n",
        "https://bookdown.org/dereksonderegger/571/6-two-way-anova.html\n",
        "\n",
        "\n",
        "**Procedimiento**\n",
        "\n",
        "**Determinación de los niveles del tamaño de la matriz**\n",
        "\n",
        "Antes de realizar el análisis de ANOVA de Dos Vías, es fundamental definir cuántos niveles de tamaño de matriz se evaluarán y en qué rango deben estar.\n",
        "\n",
        "**Preguntas a considerar:**\n",
        "\n",
        "**1** ¿Cuántos niveles de tamaño de matriz se deben seleccionar?\n",
        "\n",
        "**2** ¿Cuáles deberían ser esos valores?\n",
        "\n",
        "**3** ¿En qué rango deben estar los tamaños de matriz para garantizar que reflejen diferencias significativas en el rendimiento?\n",
        "\n",
        "Para responder estas preguntas, se debe considerar la jerarquía de memoria del sistema en el que se ejecutarán los experimentos.\n",
        "\n",
        "\n",
        "**Jerarquía de Memoria y su impacto en el tamaño de la matriz**\n",
        "\n",
        "¿Por qué es importante la jerarquía de memoria?\n",
        "\n",
        "La arquitectura de memoria de un computador está compuesta por varios niveles de caché y RAM, cada uno con diferentes velocidades y tamaños. Cuando un programa accede a datos, la ubicación de estos datos en la memoria puede afectar drásticamente su rendimiento.\n",
        "\n",
        "Para este análisis, se considerarán cinco niveles de tamaño de matriz, alineados con los diferentes niveles de la jerarquía de memoria.\n",
        "\n",
        "Ejemplo de un sistema con la siguiente configuración:\n",
        "\n",
        "  L1 Data Cache: 4 × 48 KB (8-way)\n",
        "\n",
        "  L2 Cache: 4 × 1.25 MB (20-way)\n",
        "\n",
        "  L3 Cache: 8 MB (8-way)\n",
        "\n",
        "  RAM: Se seleccionará un tamaño que exceda la caché para evaluar el impacto en la memoria\n",
        "\n",
        "\n",
        "Dado que la multiplicación de matrices involucra tres matrices (\n",
        "A,B,C), el total de memoria requerida será:\n",
        "\n",
        "Memoria_total=3xn^2x4 bytes\n",
        "\n",
        "n es el tamaño de la matriz (se busca averiguar).\n",
        "Cada elemento ocupa 4 bytes (simple precision floating-point).\n",
        "\n",
        "\n",
        "Con los 6 ejecutables generados en la semana 2 (C:\\lab_10X\\Ejecutables), vamos a agregar el tamaño de la matriz de datos como un segundo factor.\n",
        "Los niveles con los cuales vamos a trabajar son los siguientes:\n"
      ]
    },
    {
      "cell_type": "markdown",
      "metadata": {
        "id": "a0zFDRL_eU-7"
      },
      "source": [
        "**matriz de aleatorización**\n",
        "\n",
        "En un experimento bien diseñado, es fundamental minimizar cualquier fuente de variabilidad que pueda afectar los resultados, aparte de los factores que se están estudiando. Uno de los aspectos clave que puede introducir sesgos en la medición del rendimiento es el orden de ejecución de los tratamientos experimentales.\n",
        "\n",
        "La matriz de aleatorización es una herramienta utilizada para asignar de forma aleatoria el orden en que se ejecutan los tratamientos en el experimento. Este procedimiento garantiza que los factores externos no influyan sistemáticamente en los resultados, proporcionando así una evaluación más precisa y objetiva del impacto de los factores de estudio.\n",
        "\n",
        "**Importancia de la Aleatorización**\n",
        "\n",
        "  **Elimina el sesgo:**\n",
        "  Asignar aleatoriamente el orden de ejecución ayuda a evitar que factores desconocidos o no controlados afecten los resultados. Por ejemplo, es común observar que la primera ejecución de una serie de repeticiones es más lenta debido a factores como la carga inicial del sistema o efectos de caché.\n",
        "\n",
        "\n",
        "**Asegurar la validez interna del experimento:**\n",
        "  La aleatorización permite garantizar que cualquier diferencia observada en los resultados se deba exclusivamente a los factores bajo estudio y no a efectos colaterales no controlados, como el orden de ejecución o variaciones del entorno de ejecución.\n",
        "\n",
        "\n",
        "**Implementación de la Matriz de Aleatorización**\n",
        "\n",
        "El siguiente script genera una lista aleatorizada de las 48 ejecuciones combinando los dos factores de estudio:\n",
        "\n",
        "    Factor 1: Versión del algoritmo.\n",
        "\n",
        "    Factor 2: Tamaño de la matriz.\n",
        "\n",
        "Este script también genera la lista de comandos en el formato adecuado para ser utilizado en PowerShell al ejecutar los experimentos con los ejecutables ProductMatrix_X64_verX.exe:"
      ]
    },
    {
      "cell_type": "code",
      "execution_count": null,
      "metadata": {
        "colab": {
          "base_uri": "https://localhost:8080/"
        },
        "id": "clp6UFMDbzHY",
        "outputId": "ffa96426-2d30-4bd5-dd99-74cb1c860a98"
      },
      "outputs": [
        {
          "name": "stdout",
          "output_type": "stream",
          "text": [
            ".\\ProductMatrix_cpp_f_x64_verE.exe 591 10\n",
            ".\\ProductMatrix_cpp_f_x64_verA.exe 1182 10\n",
            ".\\ProductMatrix_cpp_f_x64_verB.exe 836 10\n",
            ".\\ProductMatrix_cpp_f_x64_verC.exe 591 10\n",
            ".\\ProductMatrix_cpp_f_x64_verC.exe 661 10\n",
            ".\\ProductMatrix_cpp_f_x64_verA.exe 467 10\n",
            ".\\ProductMatrix_cpp_f_x64_verD.exe 1182 10\n",
            ".\\ProductMatrix_cpp_f_x64_verE.exe 661 10\n",
            ".\\ProductMatrix_cpp_f_x64_verE.exe 467 10\n",
            ".\\ProductMatrix_cpp_f_x64_verB.exe 181 10\n",
            ".\\ProductMatrix_cpp_f_x64_verF.exe 1182 10\n",
            ".\\ProductMatrix_cpp_f_x64_verB.exe 591 10\n",
            ".\\ProductMatrix_cpp_f_x64_verB.exe 1182 10\n",
            ".\\ProductMatrix_cpp_f_x64_verC.exe 128 10\n",
            ".\\ProductMatrix_cpp_f_x64_verC.exe 181 10\n",
            ".\\ProductMatrix_cpp_f_x64_verA.exe 591 10\n",
            ".\\ProductMatrix_cpp_f_x64_verE.exe 128 10\n",
            ".\\ProductMatrix_cpp_f_x64_verA.exe 836 10\n",
            ".\\ProductMatrix_cpp_f_x64_verA.exe 181 10\n",
            ".\\ProductMatrix_cpp_f_x64_verD.exe 836 10\n",
            ".\\ProductMatrix_cpp_f_x64_verF.exe 128 10\n",
            ".\\ProductMatrix_cpp_f_x64_verD.exe 467 10\n",
            ".\\ProductMatrix_cpp_f_x64_verF.exe 181 10\n",
            ".\\ProductMatrix_cpp_f_x64_verE.exe 836 10\n",
            ".\\ProductMatrix_cpp_f_x64_verC.exe 467 10\n",
            ".\\ProductMatrix_cpp_f_x64_verA.exe 128 10\n",
            ".\\ProductMatrix_cpp_f_x64_verD.exe 591 10\n",
            ".\\ProductMatrix_cpp_f_x64_verB.exe 128 10\n",
            ".\\ProductMatrix_cpp_f_x64_verD.exe 181 10\n",
            ".\\ProductMatrix_cpp_f_x64_verD.exe 128 10\n",
            ".\\ProductMatrix_cpp_f_x64_verC.exe 836 10\n",
            ".\\ProductMatrix_cpp_f_x64_verE.exe 1182 10\n",
            ".\\ProductMatrix_cpp_f_x64_verF.exe 661 10\n",
            ".\\ProductMatrix_cpp_f_x64_verB.exe 467 10\n",
            ".\\ProductMatrix_cpp_f_x64_verA.exe 661 10\n",
            ".\\ProductMatrix_cpp_f_x64_verB.exe 661 10\n",
            ".\\ProductMatrix_cpp_f_x64_verC.exe 1182 10\n",
            ".\\ProductMatrix_cpp_f_x64_verF.exe 591 10\n",
            ".\\ProductMatrix_cpp_f_x64_verE.exe 181 10\n",
            ".\\ProductMatrix_cpp_f_x64_verD.exe 661 10\n",
            ".\\ProductMatrix_cpp_f_x64_verF.exe 836 10\n",
            ".\\ProductMatrix_cpp_f_x64_verF.exe 467 10\n"
          ]
        }
      ],
      "source": [
        "import random\n",
        "\n",
        "# Lista de ejecutables\n",
        "versions = [\n",
        "    \".\\ProductMatrix_cpp_f_x64_verA.exe\",\n",
        "    \".\\ProductMatrix_cpp_f_x64_verB.exe\",\n",
        "    \".\\ProductMatrix_cpp_f_x64_verC.exe\",\n",
        "    \".\\ProductMatrix_cpp_f_x64_verD.exe\",\n",
        "    \".\\ProductMatrix_cpp_f_x64_verE.exe\",\n",
        "    \".\\ProductMatrix_cpp_f_x64_verF.exe\"\n",
        "]\n",
        "\n",
        "# Lista de tamaños de matriz\n",
        "matrix_sizes = [ 128,\t181,\t467,\t661,\t591,\t836,\t1182] # indique los niveles calculados\n",
        "samples =      [10  , 10, 10, 10, 10, 10, 10, 10  ]\n",
        "\n",
        "# Generar combinaciones\n",
        "combinations = [\n",
        "    (version, size, sample)\n",
        "    for version in versions\n",
        "    for size, sample in zip(matrix_sizes, samples)\n",
        "]\n",
        "# Aleatorizar la lista de combinaciones\n",
        "random.shuffle(combinations)\n",
        "\n",
        "# Mostrar combinaciones aleatorizadas\n",
        "for combination in combinations:\n",
        "    print(combination[0], combination[1],  combination[2])\n"
      ]
    },
    {
      "cell_type": "markdown",
      "metadata": {
        "id": "3WXhGE-ugp5h"
      },
      "source": [
        "**Ejecución en PowerShell ISE**\n",
        "Para ejecutar los experimentos de forma organizada y registrar los datos de manera adecuada, siga los siguientes pasos en PowerShell ISE:\n",
        "\n",
        "**Acceder a la Carpeta de Ejecutables**\n",
        "\n",
        "Abrir PowerShell ISE:\n",
        "\n",
        "Presione Win + R, escriba powershell_ise, y presione Enter.\n",
        "Navegar a la carpeta de ejecutables:\n",
        "\n",
        "Utilice el siguiente comando para moverse a la carpeta donde están los ejecutables del experimento:\n",
        "\n",
        "    cd D:\\lab101\\ejecutables\n",
        "\n",
        "**Copiar la lista de comandos generados en el paso anterior.**\n",
        "\n",
        "copie y pegue en el en la zona de script la secuencia de comandos generada en el paso anterior, guarde como **TwoFactors_Ver_vs_N_lab101_LHW_XX**\n",
        "\n",
        "Si en la carpeta de ejecutables existe un archivo de reporte de datos .txt, borrelo o cambie el nombre.\n",
        "\n",
        "**Ejecutar el script en PowerShell:**\n",
        "En PowerShell ISE, haga clic en el botón de Ejecutar (Run)\n",
        "\n",
        "\n",
        "**Importar los datos a Excel:**\n",
        "\n",
        "Una vez termine las **42** ejecuciones, importe los datos el archivo Excel, en una hoja con nombre **\"TwoFactors\"**, indique los nombres de las columnas:\n",
        "\n",
        "**version    typeData      ISA    \t #sample \tn      \t time_s \tNormalized_ns**"
      ]
    },
    {
      "cell_type": "markdown",
      "metadata": {
        "id": "JPX5LwpVioEG"
      },
      "source": [
        "**Tabla ANOVA dos vías**\n",
        "\n",
        "\n"
      ]
    },
    {
      "cell_type": "code",
      "execution_count": null,
      "metadata": {
        "id": "q2tTxXcPMKVI"
      },
      "outputs": [],
      "source": []
    },
    {
      "cell_type": "code",
      "execution_count": 9,
      "metadata": {
        "colab": {
          "base_uri": "https://localhost:8080/"
        },
        "id": "WO9-qWeYkAkv",
        "outputId": "1305a926-6209-4a8c-fec7-41abbaf942e3"
      },
      "outputs": [
        {
          "name": "stdout",
          "output_type": "stream",
          "text": [
            "<class 'pandas.core.frame.DataFrame'>\n",
            "RangeIndex: 539 entries, 0 to 538\n",
            "Data columns (total 7 columns):\n",
            " #   Column         Non-Null Count  Dtype  \n",
            "---  ------         --------------  -----  \n",
            " 0   version        539 non-null    object \n",
            " 1   typeData       539 non-null    object \n",
            " 2   ISA            539 non-null    object \n",
            " 3   #sample        539 non-null    int64  \n",
            " 4   n              539 non-null    int64  \n",
            " 5   time_s         539 non-null    float64\n",
            " 6   Normalized_ns  539 non-null    float64\n",
            "dtypes: float64(2), int64(2), object(3)\n",
            "memory usage: 29.6+ KB\n",
            "     version typeData  ISA  #sample    n  time_s  Normalized_ns\n",
            "0  C++ver(b)    float  x64        0  661   0.676         2.3407\n",
            "1  C++ver(b)    float  x64        1  661   0.669         2.3164\n",
            "2  C++ver(b)    float  x64        2  661   0.684         2.3684\n",
            "3  C++ver(b)    float  x64        3  661   0.676         2.3407\n",
            "4  C++ver(b)    float  x64        4  661   0.649         2.2472\n",
            "===========          TABLA ANOVA Two ways         ================\n",
            "                     sum_sq     df           F         PR(>F)\n",
            "C(version)       184.882376    5.0  178.775781  1.328076e-108\n",
            "C(n)              65.618504    6.0   52.875958   2.524032e-50\n",
            "C(version):C(n)   88.397388   30.0   14.246276   1.388791e-49\n",
            "Residual         102.795290  497.0         NaN            NaN\n",
            " \n",
            "Valor p para C(version): 1.3280759990149541e-108\n",
            "Valor p para C(n): 2.524031914572284e-50\n",
            "Valor p para la interacción: 1.3887906898869294e-49\n",
            "alpha: 0.05\n",
            "================= -------------- =========================\n",
            "\n"
          ]
        },
        {
          "name": "stderr",
          "output_type": "stream",
          "text": [
            "/usr/local/lib/python3.11/dist-packages/statsmodels/base/model.py:130: ValueWarning: unknown kwargs ['alpha']\n",
            "  warnings.warn(msg, ValueWarning)\n"
          ]
        }
      ],
      "source": [
        "df2f = pd.read_excel(\"Lab semana 2 Part 2_Product Matrix_Datos.xlsx\",\"TwoFactors\")\n",
        "#df2f= df2f.drop(columns=['typeData', 'ISA'])\n",
        "df2f = df2f.rename(columns={\"Normalized(ns)\":\"Normalized_ns\"})\n",
        "df2f = df2f.rename(columns={\"ver\":\"version\"})\n",
        "#df2f['version'] =df2f.Categorical(df2f['version'])\n",
        "df2f['version'] = df2f['version'].str.strip()  # Eliminar espacios en blanco al inicio y al final de los valores de la columna 'version'\n",
        "df2f.info()\n",
        "print(df2f.head())\n",
        "modeloTwoWay = ols('Q(\"Normalized_ns\") ~ C(version) + C(n) + C(version) * C(n)', alpha=0.05, data=df2f).fit()\n",
        "# Mostrar los resultados\n",
        "print(\"===========          TABLA ANOVA Two ways         ================\")\n",
        "tabla_anova = anova_lm(modeloTwoWay , typ=2) # Type 2 ANOVA DataFrame\n",
        "print(tabla_anova)\n",
        "print(\" \")\n",
        "print(\"Valor p para C(version):\", tabla_anova.loc['C(version)', 'PR(>F)'])\n",
        "print(\"Valor p para C(n):\", tabla_anova.loc['C(n)', 'PR(>F)'])\n",
        "print(\"Valor p para la interacción:\", tabla_anova.loc['C(version):C(n)', 'PR(>F)'])\n",
        "print(\"alpha: 0.05\")\n",
        "print(\"================= -------------- =========================\")\n",
        "print(\"\")\n",
        "\n"
      ]
    },
    {
      "cell_type": "markdown",
      "metadata": {
        "id": "FmL50KwkoYR9"
      },
      "source": [
        "**P11.** Escriba su interpretación respecto a las conclusiones y calidad del experimento incluyendo los siguientes parámetros:\n",
        "\n",
        "• Valor p\n",
        "\n",
        "• SCT (Suma Total de Cuadrados)\n",
        "\n",
        "• SCM (Suma de Cuadrados del Modelo)\n",
        "\n",
        "• SCE (Suma de Cuadrados del Error)\n",
        "\n",
        "**Gráfico de Interacción**\n",
        "\n",
        "El gráfico de interacción es una herramienta visual clave para analizar cómo dos factores influyen conjuntamente en una variable de respuesta. En este caso, se representa el tiempo de ejecución normalizado en función del tamaño de la matriz, diferenciando cada versión del algoritmo mediante colores.\n",
        "\n",
        "**¿Por qué es importante este gráfico?**\n",
        "\n",
        "**Detecta efectos principales y su impacto en el rendimiento:**\n",
        "Permite observar cómo el tamaño de la matriz (𝑛) influye en el tiempo de ejecución.\n",
        "Muestra si las versiones del algoritmo tienen diferencias significativas en su rendimiento.\n",
        "\n",
        "**Identifica interacciones entre los factores:**\n",
        "Si las líneas de diferentes versiones no son paralelas, significa que el efecto de la versión del algoritmo varía según el tamaño de la matriz.\n",
        "Esto indicaría que ciertas versiones del algoritmo se benefician más o menos según el tamaño de los datos.\n",
        "\n",
        "\n"
      ]
    },
    {
      "cell_type": "markdown",
      "metadata": {
        "id": "VWCyuKLknoRA"
      },
      "source": []
    },
    {
      "cell_type": "code",
      "execution_count": null,
      "metadata": {
        "colab": {
          "base_uri": "https://localhost:8080/",
          "height": 610
        },
        "id": "xlUWLg3E7MRH",
        "outputId": "acdfdc7b-68f1-4776-fd61-da0a29f6f46d"
      },
      "outputs": [
        {
          "name": "stderr",
          "output_type": "stream",
          "text": [
            "<ipython-input-50-d59dcf07d20f>:2: FutureWarning: \n",
            "\n",
            "The `ci` parameter is deprecated. Use `errorbar=None` for the same effect.\n",
            "\n",
            "  sns.catplot(x='n', y='Normalized_ns', hue='version', kind='point', data=df2f, ci=None)\n"
          ]
        },
        {
          "data": {
            "image/png": "[encoded data removed]",
            "text/plain": [
              "<Figure size 637.5x500 with 1 Axes>"
            ]
          },
          "metadata": {},
          "output_type": "display_data"
        }
      ],
      "source": [
        "# Creamos la gráfica de interacciones\n",
        "sns.catplot(x='n', y='Normalized_ns', hue='version', kind='point', data=df2f, ci=None)\n",
        "plt.title('Gráfico de Interacción')\n",
        "plt.show()"
      ]
    }
  ],
  "metadata": {
    "colab": {
      "provenance": []
    },
    "kernelspec": {
      "display_name": "Python 3",
      "name": "python3"
    },
    "language_info": {
      "name": "python"
    }
  },
  "nbformat": 4,
  "nbformat_minor": 0
}
